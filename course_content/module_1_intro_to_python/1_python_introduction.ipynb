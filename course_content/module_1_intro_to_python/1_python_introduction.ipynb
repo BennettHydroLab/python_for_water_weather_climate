{
 "cells": [
  {
   "cell_type": "markdown",
   "metadata": {
    "tags": []
   },
   "source": [
    "# Welcome to Python for Water, Weather, and Climate\n",
    "\n",
    "## In this first module we will introduce the basics of python!\n",
    "\n",
    "As you saw this is a jupyter notebook. It has \"cells\" which are small chunks of code or text that can be edited or run individually. The text you see here is written in markdown, a simplified way of formatting documents. If you want to see how this is written under the hood, you can double click anywhere in this \"cell\" (the space highlighted by the colored bar on the left, if you click on the text here). Doing so will open up the \"edit mode\" for the cell where you can see the \"markdown code\" that produced the formatted text. For instance you can see that headers are defined with the `#` symbol, and adding additional `#` symbols makes subheaders. Anyhow, we'll get more into markdown later in the course where we dive a bit more deeply into the Jupyter ecosystem. For now, you can get out of edit mode by either clicking the \"play button\" on the toolbar just at the top of this `python_introduction.ipynb` tab, or by pressing `<shift>+<enter>` on your keyboard.\n",
    "\n",
    "Jupyter notebooks + markdown are a great way to document your code and workflows. Being able to mix formatted text and executable code means it is easier to share and explain what and why you are doing things. It also provides a nice way to organize an entire workflow. One part of what makes Jupyter notebooks so nice is that you can interact with the outputs of your code easily, making it very clear what has run and what happened. Let's dive into python!\n",
    "\n",
    ":::{note}\n",
    "This is not supposed to be a definitive introduction to python, but closer to a minimum viable skillset for being able to write basic scripts. We highly recommend you check out other referenced resources after you've worked your way through this notebook.\n",
    ":::\n",
    "\n",
    "## Simple arithmetic\n",
    "Below there are more \"cells\" that consist of python code, rather than markdown. You an run these by hitting `<shift>+<enter>` on your keyboard. Let's start very basic by doing some simple arithmetic with python statements. Statements are just single line of code. As you can see, basic arithmetic works!"
   ]
  },
  {
   "cell_type": "code",
   "execution_count": 1,
   "metadata": {},
   "outputs": [
    {
     "data": {
      "text/plain": [
       "8"
      ]
     },
     "execution_count": 1,
     "metadata": {},
     "output_type": "execute_result"
    }
   ],
   "source": [
    "5+3"
   ]
  },
  {
   "cell_type": "code",
   "execution_count": 2,
   "metadata": {},
   "outputs": [
    {
     "data": {
      "text/plain": [
       "15"
      ]
     },
     "execution_count": 2,
     "metadata": {},
     "output_type": "execute_result"
    }
   ],
   "source": [
    "5*3"
   ]
  },
  {
   "cell_type": "code",
   "execution_count": 3,
   "metadata": {},
   "outputs": [
    {
     "data": {
      "text/plain": [
       "64"
      ]
     },
     "execution_count": 3,
     "metadata": {},
     "output_type": "execute_result"
    }
   ],
   "source": [
    "(5+3)*8"
   ]
  },
  {
   "cell_type": "code",
   "execution_count": 4,
   "metadata": {},
   "outputs": [
    {
     "data": {
      "text/plain": [
       "4.528301886792453"
      ]
     },
     "execution_count": 4,
     "metadata": {},
     "output_type": "execute_result"
    }
   ],
   "source": [
    "(8*3)/5.3"
   ]
  },
  {
   "cell_type": "markdown",
   "metadata": {},
   "source": [
    "All of these statements are probably familiar to you, but it's worth enumerating the arithmetic operators you're allowed to use, and also to note that these arithmetic operators are a subset of all of the operators you can use. In our case, these have all been \"binary operators\". Binary operators \"operate\" on two inputs with the syntax `input1 op input2` where `op` is the name/symbol for the binary operator. For example, `+` is the binary operator which represents addition. The main arithmetic operators that you can use are the following:\n",
    "\n",
    "* `+`: addition\n",
    "* `-`: subtraction\n",
    "* `*`: multiplication\n",
    "* `/`: division\n",
    "* `%`: modulus\n",
    "* `//`: integer division\n",
    "* `**`: exponentiation\n",
    "\n",
    "There are other types of operators which work on different kinds of data, a full list can be found [here](https://www.w3schools.com/python/python_operators.asp). While many of these probably will sound confusing at the moment, many of them will show up in later lessons."
   ]
  },
  {
   "cell_type": "markdown",
   "metadata": {},
   "source": [
    "## Assigning statements to variables\n",
    "\n",
    "Python would not be very useful if you couldn't store the results of your statements somewhere. To do so, we use variables. Variables in python can be assigned using the `=` operator. It's up to you to create names for your variables (we'll get more into best practices of that later), but we'll just choose the basic `x` and `y` for now. As you can see, when we multiply `x` and `y` we get the result we expect.\n",
    "\n",
    ":::{warning}\n",
    "It's a common error for python beginners to try to multiply by variables which don't yet exist. This usually indicates a typo or that you've lost access to the variable you're trying to get to. For example, if you accidentally try to multiply `x` by `z` instead of `y` you will be met with an error that looks like:\n",
    "\n",
    "`NameError: name 'z' is not defined`\n",
    "\n",
    "Pretty much any time you see this error, go back and see if you have a typo or have created the variable you're trying to use first! We'll get deeper into debugging later.\n",
    ":::"
   ]
  },
  {
   "cell_type": "code",
   "execution_count": 5,
   "metadata": {},
   "outputs": [
    {
     "data": {
      "text/plain": [
       "15"
      ]
     },
     "execution_count": 5,
     "metadata": {},
     "output_type": "execute_result"
    }
   ],
   "source": [
    "x = 5\n",
    "y = 3\n",
    "x*y"
   ]
  },
  {
   "cell_type": "markdown",
   "metadata": {},
   "source": [
    "In python variables can also be updated. For example, we can change `x` from 5 to 4, which produces an updated result when we multiply `x` and `y`."
   ]
  },
  {
   "cell_type": "code",
   "execution_count": 6,
   "metadata": {},
   "outputs": [
    {
     "data": {
      "text/plain": [
       "12"
      ]
     },
     "execution_count": 6,
     "metadata": {},
     "output_type": "execute_result"
    }
   ],
   "source": [
    "x = 4\n",
    "x*y"
   ]
  },
  {
   "cell_type": "markdown",
   "metadata": {},
   "source": [
    "Similarly, we can update variables \"in place\". Here we take the current value of `x` (4) and multiply it by 2, and then put the new value (8) back into `x`. This produces the expected value (24).\n",
    "\n",
    ":::{warning}\n",
    "Another common error for python beginners, particularly when using Jupyter notebooks, is to accidentally run code cells more times than expected. For example, if you run the code cell below multiple times you'll see the result increasing with each consecutive run. This is because the value of `x` is updated and stored each time you run the code.\n",
    ":::"
   ]
  },
  {
   "cell_type": "code",
   "execution_count": 7,
   "metadata": {},
   "outputs": [
    {
     "data": {
      "text/plain": [
       "24"
      ]
     },
     "execution_count": 7,
     "metadata": {},
     "output_type": "execute_result"
    }
   ],
   "source": [
    "x = x * 2\n",
    "x*y"
   ]
  },
  {
   "cell_type": "markdown",
   "metadata": {},
   "source": [
    "### A quick side diversion: comments\n",
    "\n",
    "So far, every line of code which was in a code cell was executed when run. Sometimes when writing code it is helpful to leave comments inside of the code. This is particularly useful when writing scripts, libraries, and other python programs which aren't in the notebook environment, but can also be helpful for writing larger chunks of codes in notebooks as well. The python interpreter considers anything following a `#` symbol on a line to be a comment, and is ignored. You can use comments to leave helpful notes, or just to remove pieces of code that you don't want to run for the moment."
   ]
  },
  {
   "cell_type": "code",
   "execution_count": 8,
   "metadata": {},
   "outputs": [
    {
     "data": {
      "text/plain": [
       "48"
      ]
     },
     "execution_count": 8,
     "metadata": {},
     "output_type": "execute_result"
    }
   ],
   "source": [
    "# double x and then multiply by y\n",
    "2*x*y"
   ]
  },
  {
   "cell_type": "code",
   "execution_count": 9,
   "metadata": {},
   "outputs": [
    {
     "data": {
      "text/plain": [
       "8"
      ]
     },
     "execution_count": 9,
     "metadata": {},
     "output_type": "execute_result"
    }
   ],
   "source": [
    "# x = x * 2\n",
    "x"
   ]
  },
  {
   "cell_type": "markdown",
   "metadata": {},
   "source": [
    "## Intro to data types\n",
    "\n",
    "So far you've just seen some basic math working with numeric data. But, clearly programs work on more than just simple arithmetic. Programming languages (almost) always encode different data in different ways, called \"types\", which represent data in different ways and let you operate on them in a more intuitive way. \n",
    "\n",
    "Before giving a big list of these different types it's probably easier to understand with a concrete example first."
   ]
  },
  {
   "cell_type": "markdown",
   "metadata": {},
   "source": [
    "### String data types\n",
    "\n",
    "Aside from numbers, strings are a very basic data type. Strings encode text. They are called \"strings\" because they are \"strings of characters\". Strings in python can be enclosed in either single (`'`) or double (`\"`) quotes, but generally I prefer single quotes. Whichever you prefer, using that convention consistently is generally more important than choosing one style over the other (particularly for beginners). For example, here are just two different ways to create a string that represents the word Hello."
   ]
  },
  {
   "cell_type": "code",
   "execution_count": 10,
   "metadata": {},
   "outputs": [
    {
     "data": {
      "text/plain": [
       "'Hello'"
      ]
     },
     "execution_count": 10,
     "metadata": {},
     "output_type": "execute_result"
    }
   ],
   "source": [
    "\"Hello\""
   ]
  },
  {
   "cell_type": "code",
   "execution_count": 11,
   "metadata": {},
   "outputs": [
    {
     "data": {
      "text/plain": [
       "'Hello'"
      ]
     },
     "execution_count": 11,
     "metadata": {},
     "output_type": "execute_result"
    }
   ],
   "source": [
    "'Hello'"
   ]
  },
  {
   "cell_type": "markdown",
   "metadata": {},
   "source": [
    "Unsurprisingly, strings can be assigned to variables just like numbers can. Here, we will use the variable name `greeting`. We can then use this to make greetings for different groups/people. This reuse helps save time, and makes reusing code easier. We do this by using the fact that the `+` operator acts differently on strings than it does on numeric data. We already saw that on numeric data `+` is just addition. But adding together text doesn't make sense in the same way as adding numbers. The way that adding strings work is referred to as \"concatenation\", which basically just means stick them together end to end. You can see how this works below."
   ]
  },
  {
   "cell_type": "code",
   "execution_count": 12,
   "metadata": {},
   "outputs": [
    {
     "data": {
      "text/plain": [
       "'Hello '"
      ]
     },
     "execution_count": 12,
     "metadata": {},
     "output_type": "execute_result"
    }
   ],
   "source": [
    "greeting = 'Hello ' # Note the trailing space, we just include that for convenience\n",
    "greeting"
   ]
  },
  {
   "cell_type": "code",
   "execution_count": 13,
   "metadata": {},
   "outputs": [
    {
     "data": {
      "text/plain": [
       "'Hello python for water, weather, and climate'"
      ]
     },
     "execution_count": 13,
     "metadata": {},
     "output_type": "execute_result"
    }
   ],
   "source": [
    "course_name = 'python for water, weather, and climate'\n",
    "greeting + course_name"
   ]
  },
  {
   "cell_type": "code",
   "execution_count": 14,
   "metadata": {},
   "outputs": [
    {
     "data": {
      "text/plain": [
       "'Hello '"
      ]
     },
     "execution_count": 14,
     "metadata": {},
     "output_type": "execute_result"
    }
   ],
   "source": [
    "your_name = ''\n",
    "greeting + your_name"
   ]
  },
  {
   "cell_type": "markdown",
   "metadata": {},
   "source": [
    "### Mixing data types\n",
    "\n",
    "Given you can use the `+` operator on both numbers and strings, you might wonder what happens if you add a string to a number. This is where python's internal knowledge of data types comes in. Just running the naive `greeting + x` will give you something called a `TypeError` and says that you \"can only concatenate str to str\", which means the only data type that you're allowed to add to a string is another string."
   ]
  },
  {
   "cell_type": "code",
   "execution_count": 15,
   "metadata": {},
   "outputs": [
    {
     "ename": "TypeError",
     "evalue": "can only concatenate str (not \"int\") to str",
     "output_type": "error",
     "traceback": [
      "\u001b[0;31m---------------------------------------------------------------------------\u001b[0m",
      "\u001b[0;31mTypeError\u001b[0m                                 Traceback (most recent call last)",
      "Cell \u001b[0;32mIn[15], line 1\u001b[0m\n\u001b[0;32m----> 1\u001b[0m \u001b[43mgreeting\u001b[49m\u001b[43m \u001b[49m\u001b[38;5;241;43m+\u001b[39;49m\u001b[43m \u001b[49m\u001b[43mx\u001b[49m\n",
      "\u001b[0;31mTypeError\u001b[0m: can only concatenate str (not \"int\") to str"
     ]
    }
   ],
   "source": [
    "greeting + x"
   ]
  },
  {
   "cell_type": "markdown",
   "metadata": {},
   "source": [
    "But do not fear! Python is a very flexible langauge, and you can simply convert numbers to strings using the `str` function. We can see how this works below, simply by wrapping `x` in a call to `str` surrounded by paretheses. This is your first explicit function call, which we'll get into more a little bit later. For now, the key is that we can interchange between data types for compatible types and values."
   ]
  },
  {
   "cell_type": "code",
   "execution_count": 16,
   "metadata": {},
   "outputs": [
    {
     "data": {
      "text/plain": [
       "'Hello 8'"
      ]
     },
     "execution_count": 16,
     "metadata": {},
     "output_type": "execute_result"
    }
   ],
   "source": [
    "greeting + str(x)"
   ]
  },
  {
   "cell_type": "markdown",
   "metadata": {},
   "source": [
    "### And now for some complications..."
   ]
  },
  {
   "cell_type": "markdown",
   "metadata": {},
   "source": [
    "But can we go the other way? For example, could we convert \"Hello\" into a number? It turns out not, since python doesn't really know what to do with this. We see this by trying to convert `greeting` to a number via the `float` function. This attempts to convert whatever is inside of the parentheses to a decimal number (also known a floating point number, more on that later). But, alas, python tells us that it \"could not convert string to float\"."
   ]
  },
  {
   "cell_type": "code",
   "execution_count": 17,
   "metadata": {},
   "outputs": [
    {
     "ename": "ValueError",
     "evalue": "could not convert string to float: 'Hello '",
     "output_type": "error",
     "traceback": [
      "\u001b[0;31m---------------------------------------------------------------------------\u001b[0m",
      "\u001b[0;31mValueError\u001b[0m                                Traceback (most recent call last)",
      "Cell \u001b[0;32mIn[17], line 1\u001b[0m\n\u001b[0;32m----> 1\u001b[0m \u001b[38;5;28;43mfloat\u001b[39;49m\u001b[43m(\u001b[49m\u001b[43mgreeting\u001b[49m\u001b[43m)\u001b[49m \u001b[38;5;241m+\u001b[39m x\n",
      "\u001b[0;31mValueError\u001b[0m: could not convert string to float: 'Hello '"
     ]
    }
   ],
   "source": [
    "float(greeting) + x"
   ]
  },
  {
   "cell_type": "markdown",
   "metadata": {},
   "source": [
    "On the other hand, if the string we pass to the float function actually *looks* like a number, we can do this conversion no problem. Understanding what types are compatible with eachother is an essential component of understanding and writing python code."
   ]
  },
  {
   "cell_type": "code",
   "execution_count": 18,
   "metadata": {},
   "outputs": [
    {
     "data": {
      "text/plain": [
       "9.23"
      ]
     },
     "execution_count": 18,
     "metadata": {},
     "output_type": "execute_result"
    }
   ],
   "source": [
    "float(\"1.23\") + x"
   ]
  },
  {
   "cell_type": "code",
   "execution_count": 19,
   "metadata": {},
   "outputs": [
    {
     "data": {
      "text/plain": [
       "'Hello Hello Hello Hello Hello '"
      ]
     },
     "execution_count": 19,
     "metadata": {},
     "output_type": "execute_result"
    }
   ],
   "source": [
    "5 * greeting"
   ]
  },
  {
   "cell_type": "markdown",
   "metadata": {},
   "source": [
    "### An important lesson\n",
    "\n",
    "In python, types, while generally hidden, are very important. Always know what your variables's data types are. You can find out by wrapping the variable in `type(...)`. This is another function, that simply tells you the type of the data inside of the parentheses. Here are two examples using the data we've already been using."
   ]
  },
  {
   "cell_type": "code",
   "execution_count": 20,
   "metadata": {},
   "outputs": [
    {
     "data": {
      "text/plain": [
       "(8, int)"
      ]
     },
     "execution_count": 20,
     "metadata": {},
     "output_type": "execute_result"
    }
   ],
   "source": [
    "x, type(x)"
   ]
  },
  {
   "cell_type": "code",
   "execution_count": 21,
   "metadata": {},
   "outputs": [
    {
     "data": {
      "text/plain": [
       "('Hello ', str)"
      ]
     },
     "execution_count": 21,
     "metadata": {},
     "output_type": "execute_result"
    }
   ],
   "source": [
    "greeting, type(greeting)"
   ]
  },
  {
   "cell_type": "markdown",
   "metadata": {},
   "source": [
    "## So, what types are out there?\n",
    "\n",
    "Now that you can see how different data types provide different representations of data, and sets rules for how different variables can interact we can do a brief overview of base python's most common data types:\n",
    "\n",
    "* `bool`: Boolean values, basically just True or False - same concept as binary, named after George Boole\n",
    "* `int`: Integers, or whole numbers\n",
    "* `float`: Floating point numbers, or real numbers (those which decimals)\n",
    "* `str`: Strings, or text data\n",
    "* `tuple`: You just saw one of these, it's a sequence denoted by parentheses (more later)\n",
    "* `list`: Also a sequence, but with different properties than a `tuple`\n",
    "* `dict`: Dictionaries, maps a `key` to a `value`, very useful as a lookup table\n",
    "\n",
    "Let's go through some of the basics for each of these, starting with boolean values."
   ]
  },
  {
   "cell_type": "markdown",
   "metadata": {
    "tags": []
   },
   "source": [
    "### Booleans (`bool`)\n",
    "\n",
    "Booleans, or just `bool`s are binary variables. They can take 2 values: `True` or `False` (note capitalization). You can do basic elementary logic with them. They work well with other types of data and make it easy to check if various conditions are met. For example, inequalities with numeric data will convert to a boolean with the appropriate values, and similarly, you can see if a certain pattern is contained in a string:"
   ]
  },
  {
   "cell_type": "code",
   "execution_count": 68,
   "metadata": {},
   "outputs": [
    {
     "data": {
      "text/plain": [
       "True"
      ]
     },
     "execution_count": 68,
     "metadata": {},
     "output_type": "execute_result"
    }
   ],
   "source": [
    "x = 5\n",
    "y = 10\n",
    "x < y"
   ]
  },
  {
   "cell_type": "code",
   "execution_count": 69,
   "metadata": {},
   "outputs": [
    {
     "data": {
      "text/plain": [
       "False"
      ]
     },
     "execution_count": 69,
     "metadata": {},
     "output_type": "execute_result"
    }
   ],
   "source": [
    "x < 1/y"
   ]
  },
  {
   "cell_type": "code",
   "execution_count": 70,
   "metadata": {},
   "outputs": [
    {
     "data": {
      "text/plain": [
       "True"
      ]
     },
     "execution_count": 70,
     "metadata": {},
     "output_type": "execute_result"
    }
   ],
   "source": [
    "'yes' in 'yes or no'"
   ]
  },
  {
   "cell_type": "code",
   "execution_count": 71,
   "metadata": {},
   "outputs": [
    {
     "data": {
      "text/plain": [
       "False"
      ]
     },
     "execution_count": 71,
     "metadata": {},
     "output_type": "execute_result"
    }
   ],
   "source": [
    "'hello' in 'yes or no'"
   ]
  },
  {
   "cell_type": "markdown",
   "metadata": {},
   "source": [
    "As mentioned before, booleans can be used to build up basic logical statements. The two basic binary operations that can be performed on boolean variables are `and` and `or`. Below are the \"truth tables\" for each operator. The top row and first column represent possible inputs and the remaining entries represent the output of the operation. In addition to the `and` and `or` operators there is also the `not` operator, which simply transforms a `True` into a `False` and a `False` into a `True`.\n",
    "\n",
    "#### Truth table for the `or` operator\n",
    "\n",
    "|            | True  | False |\n",
    "| ---------- | ----- | ------|\n",
    "| **True**   | True  | True  |\n",
    "| **False**  | True  | False |\n",
    "\n",
    "#### Truth table for the `and` operator\n",
    "\n",
    "|            | True  | False |\n",
    "| ---------- | ----- | ------|\n",
    "| **True**   | True  | False |\n",
    "| **False**  | False| False |\n"
   ]
  },
  {
   "cell_type": "code",
   "execution_count": 72,
   "metadata": {},
   "outputs": [
    {
     "data": {
      "text/plain": [
       "True"
      ]
     },
     "execution_count": 72,
     "metadata": {},
     "output_type": "execute_result"
    }
   ],
   "source": [
    "yes = True\n",
    "no = False\n",
    "\n",
    "yes or no"
   ]
  },
  {
   "cell_type": "code",
   "execution_count": 73,
   "metadata": {},
   "outputs": [
    {
     "data": {
      "text/plain": [
       "False"
      ]
     },
     "execution_count": 73,
     "metadata": {},
     "output_type": "execute_result"
    }
   ],
   "source": [
    "yes and no"
   ]
  },
  {
   "cell_type": "code",
   "execution_count": 74,
   "metadata": {},
   "outputs": [
    {
     "data": {
      "text/plain": [
       "True"
      ]
     },
     "execution_count": 74,
     "metadata": {},
     "output_type": "execute_result"
    }
   ],
   "source": [
    "yes and not no"
   ]
  },
  {
   "cell_type": "code",
   "execution_count": 75,
   "metadata": {},
   "outputs": [
    {
     "data": {
      "text/plain": [
       "True"
      ]
     },
     "execution_count": 75,
     "metadata": {},
     "output_type": "execute_result"
    }
   ],
   "source": [
    "('yes' in 'yes or no') and True"
   ]
  },
  {
   "cell_type": "markdown",
   "metadata": {},
   "source": [
    "### Strings (`str`)\n",
    "\n",
    "We have already seen strings in the previously, but there are many things you can do with text data. We won't get too deep into this but it's worth a little bit more exploration. For example, we can take a string, `message`, and call `.upper()` on it to make it all caps.\n",
    "\n",
    ":::{note}\n",
    "Whenever we call `variable.function()` we call this a function call just like when we do `function(variable)`. There are some subtleties to the difference between these two formats, but we won't get into them for a while. The main difference is that for certain data types there are functions which are very special to that data type, so they are attached to the variable directly. For example, the `upper()` function would not make sense for any other data type other than strings, so python makes it attached to string data types directly. This is in contrast to something like the `type` function which can take *any* data type as the input, so it is left generic.\n",
    "\n",
    "A point of important vocabulary however, is that you may find that when functions are attached to variable instances (i.e. `variable.function()`), that the function may be referred to as a \"method\". We will use this terminology which is rooted in ideas from [object oriented programming](https://en.wikipedia.org/wiki/Object-oriented_programming), but won't get deep into the underlying concepts in this course. If you are interested in learning more about object oriented programming you might refer to some of our additional resources in the readme or recommended supplementary content.\n",
    ":::"
   ]
  },
  {
   "cell_type": "code",
   "execution_count": 76,
   "metadata": {},
   "outputs": [
    {
     "data": {
      "text/plain": [
       "'THIS IS A MESSAGE'"
      ]
     },
     "execution_count": 76,
     "metadata": {},
     "output_type": "execute_result"
    }
   ],
   "source": [
    "message = 'This is a message'\n",
    "message.upper()"
   ]
  },
  {
   "cell_type": "markdown",
   "metadata": {},
   "source": [
    "You can also do things like `split`, which takes another string as an argument (that is put inside of the parentheses). Here we are saying what to split the string up into multiple strings by. Here's two examples:"
   ]
  },
  {
   "cell_type": "code",
   "execution_count": 77,
   "metadata": {},
   "outputs": [
    {
     "data": {
      "text/plain": [
       "['This', 'is', 'a', 'message']"
      ]
     },
     "execution_count": 77,
     "metadata": {},
     "output_type": "execute_result"
    }
   ],
   "source": [
    "message.split(' ')"
   ]
  },
  {
   "cell_type": "code",
   "execution_count": 78,
   "metadata": {},
   "outputs": [
    {
     "data": {
      "text/plain": [
       "['Thi', ' i', ' a me', '', 'age']"
      ]
     },
     "execution_count": 78,
     "metadata": {},
     "output_type": "execute_result"
    }
   ],
   "source": [
    "message.split('s')"
   ]
  },
  {
   "cell_type": "markdown",
   "metadata": {},
   "source": [
    "### What's with the `[` and `]` business? It's sequences!\n",
    "\n",
    "You may have noticed some of the outputs we've seen are enclosed in either brackets or parentheses. These are actually two of python's sequence types, `tuples` and `lists`. Tuples are specified with parentheses and lists with brackets. Overall they are very similar for many cases, and generally, when in doubt use a `list` over a `tuple`. Both are collections of other types of data which are all collected into a single data type. \n",
    "\n",
    "Here you can see that the `split` method on strings produces a list."
   ]
  },
  {
   "cell_type": "code",
   "execution_count": 79,
   "metadata": {},
   "outputs": [
    {
     "data": {
      "text/plain": [
       "list"
      ]
     },
     "execution_count": 79,
     "metadata": {},
     "output_type": "execute_result"
    }
   ],
   "source": [
    "type(message.split(' '))"
   ]
  },
  {
   "cell_type": "markdown",
   "metadata": {},
   "source": [
    "Lists and tuples can be also be created directly. Here we can create one of each, just to demonstrate the syntax. Just like when we inspect/print/output a list or tuple the lists are created with brackets and tuples with parentheses."
   ]
  },
  {
   "cell_type": "code",
   "execution_count": 80,
   "metadata": {},
   "outputs": [],
   "source": [
    "# A list\n",
    "my_list = [1, 2, 3, 4, 5, 6, 7, 8, 9]\n",
    "\n",
    "# A tuple\n",
    "my_tuple = (10, 11, 12, 13)"
   ]
  },
  {
   "cell_type": "markdown",
   "metadata": {},
   "source": [
    "### Indexing, or how to get something out of a sequence\n",
    "\n",
    "One of the most common things you'll need to do with tuples or lists is get an individual item out of the it. To do so you need to \"index\" the sequence, which basically means point to the numeric location of the sequence where the item that you want is. Python is a 0-based indexed language, so the first item in a sequence type has an index of 0. To index on a sequence you can use brackets with an integer value inside. See below for examples of how to get the first item out of our example list and tuple.\n",
    "\n",
    ":::{warning}\n",
    "Another common pitfall for beginner python programmers is getting confused between indexing and function calls. Indexing uses square brackets and function calls use parentheses. If you try to use parentheses for indexing when you should have used brackets you most likely will receive the error (or something similar):\n",
    "\n",
    "`TypeError: 'list' object is not callable`\n",
    "\n",
    "Similarly, if you try to call a function with square brackets when you should have used parentheses you will receive an error that looks something like this:\n",
    "\n",
    "`TypeError: 'builtin_function_or_method' object is not subscriptable`\n",
    "\n",
    ":::"
   ]
  },
  {
   "cell_type": "code",
   "execution_count": 81,
   "metadata": {},
   "outputs": [
    {
     "data": {
      "text/plain": [
       "(1, 2)"
      ]
     },
     "execution_count": 81,
     "metadata": {},
     "output_type": "execute_result"
    }
   ],
   "source": [
    "my_list[0], my_list[1]"
   ]
  },
  {
   "cell_type": "code",
   "execution_count": 82,
   "metadata": {},
   "outputs": [
    {
     "data": {
      "text/plain": [
       "(10, 11)"
      ]
     },
     "execution_count": 82,
     "metadata": {},
     "output_type": "execute_result"
    }
   ],
   "source": [
    "my_tuple[0], my_tuple[1]"
   ]
  },
  {
   "cell_type": "markdown",
   "metadata": {},
   "source": [
    "Indexing in python has a lot of powerful capabilities. Besides just counting up to get to the point that you want to get you can also count down, or in reverse order. To get the last item out of a sequence you use negative numbers. For instance to get the last item out of a sequence just index with `-1`:"
   ]
  },
  {
   "cell_type": "code",
   "execution_count": 83,
   "metadata": {},
   "outputs": [
    {
     "data": {
      "text/plain": [
       "9"
      ]
     },
     "execution_count": 83,
     "metadata": {},
     "output_type": "execute_result"
    }
   ],
   "source": [
    "my_list[-1]"
   ]
  },
  {
   "cell_type": "markdown",
   "metadata": {},
   "source": [
    "And if you're wondering if you can get more than a single item out of a sequence, the answer is yes! As mentioned before indexing in python is powerful. The idea of getting a sub-sequence from a sequence is usually referred to as slicing. There is a concise syntax for slicing which works on most sequence types which is written as `sequence_variable[start:stop:step]` where `start`, `stop`, and `step` are all (optional) integer values. To see how this works, let's just see some examples.\n",
    "\n",
    ":::{note} \n",
    "A quick note on the `print` statement, and the difference from outputting the last item from a code cell. In this bit we're silently introducing the `print` statement which can be used to produce output to the output cell or wherever you see the result of a code snippet. This is slightly different than leaving \"bare\" statements (that is, python statements which aren't assigned to a variable) since we can put multiple of them in a code block and still see their restuls. Print statements are also great for debugging intermediate steps of your code that can't be separated into individual code blocks. You'll see much more of this later in the course content.\n",
    ":::"
   ]
  },
  {
   "cell_type": "code",
   "execution_count": 84,
   "metadata": {},
   "outputs": [
    {
     "name": "stdout",
     "output_type": "stream",
     "text": [
      "[1, 2, 3, 4, 5, 6, 7, 8, 9]\n",
      "[6, 7, 8, 9]\n",
      "[1, 2, 3, 4, 5]\n",
      "[4, 5]\n",
      "[1, 2, 3, 4, 5, 6, 7, 8, 9]\n",
      "[1, 3, 5, 7, 9]\n",
      "[2, 5, 8]\n"
     ]
    }
   ],
   "source": [
    "print(my_list[:])        # Get everything in the list\n",
    "print(my_list[5:])       # Get everything after the 5th element\n",
    "print(my_list[:5])       # Get everything up to the 5th element\n",
    "print(my_list[3:5])      # Get the 4th and 5th elements\n",
    "print(my_list[0:None])   # Get everything a different way\n",
    "print(my_list[0:None:2]) # Get every other item \n",
    "print(my_list[1::3])     # Get every 3rd item, starting after the 1st item"
   ]
  },
  {
   "cell_type": "markdown",
   "metadata": {},
   "source": [
    "Alternatively you can use the `slice` terminology, which is more verbose, but can be assigned as a variable before indexing which can be very useful. This will come in handy in later course modules so it's worth looking at a little bit here as well."
   ]
  },
  {
   "cell_type": "code",
   "execution_count": 85,
   "metadata": {},
   "outputs": [
    {
     "name": "stdout",
     "output_type": "stream",
     "text": [
      "[3, 4, 5, 6, 7]\n",
      "[3, 4, 5, 6, 7]\n"
     ]
    }
   ],
   "source": [
    "start, stop, step = 2, 7, 1\n",
    "my_slice = slice(start, stop, step)\n",
    "print(my_list[start:stop:step])\n",
    "print(my_list[my_slice])"
   ]
  },
  {
   "cell_type": "markdown",
   "metadata": {},
   "source": [
    "### Extending sequences\n",
    "\n",
    "Both lists and tuples can be extended by \"adding\" another object of the same type. Like strings, you can only use the `+` operator to add something of the same type, so you can't add a number to a list, nor can you add a tuple to a list."
   ]
  },
  {
   "cell_type": "code",
   "execution_count": 86,
   "metadata": {},
   "outputs": [
    {
     "data": {
      "text/plain": [
       "[1, 2, 3, 4, 5, 6, 7, 8, 9, 4, 5, 6]"
      ]
     },
     "execution_count": 86,
     "metadata": {},
     "output_type": "execute_result"
    }
   ],
   "source": [
    "my_list + [4, 5, 6]"
   ]
  },
  {
   "cell_type": "code",
   "execution_count": 87,
   "metadata": {},
   "outputs": [
    {
     "data": {
      "text/plain": [
       "(10, 11, 12, 13, 4, 5, 6)"
      ]
     },
     "execution_count": 87,
     "metadata": {},
     "output_type": "execute_result"
    }
   ],
   "source": [
    "my_tuple + (4, 5, 6)"
   ]
  },
  {
   "cell_type": "markdown",
   "metadata": {},
   "source": [
    "An alternate way to add items to lists (but not tuples, which opens up the whole [discussion of mutability](https://stackoverflow.com/questions/1708510/list-vs-tuple-when-to-use-each))l is to use the `.append` method on your favorite list. Note here that the `.append` method doesn't return a new list, but rather modifies the existing one that you're calling the method on.\n",
    "\n",
    ":::{warning}\n",
    "At the risk of sounding like a broken record, make sure to take care when using operations which modify variables in place, like using the `.append` method below, just like before when doing something like `x=x+1` where the resulting variable is used in the calculation uses the same variable reference. If you're not careful and run the cell below multiple times the variable `my_list` may not look like what you expect!\n",
    ":::"
   ]
  },
  {
   "cell_type": "code",
   "execution_count": 88,
   "metadata": {},
   "outputs": [
    {
     "name": "stdout",
     "output_type": "stream",
     "text": [
      "[1, 2, 3, 4, 5, 6, 7, 8, 9]\n",
      "[1, 2, 3, 4, 5, 6, 7, 8, 9, 999]\n"
     ]
    }
   ],
   "source": [
    "print(my_list)\n",
    "my_list.append(999)\n",
    "print(my_list)"
   ]
  },
  {
   "cell_type": "markdown",
   "metadata": {},
   "source": [
    "### Finally, dictionaries\n",
    "\n",
    "Dictionaries are awesome, and useful in a huge number of data science tasks where you need to record something in a basic lookup table. They are like `lists` and `tuples` in that they contain a number of other things but, they have the concept of a `key` and a `value`.\n",
    "As we mentioned, it's basically a lookup table where the key is what you want to know about and the value is the result. But, a big selling point here is that you can make the `keys` any data type you want rather than just integers like `lists` and `tuples`. Before we get into some use cases, let's start with the basics. The syntax to create one is with curly braces `{}` or with the `dict()` keyword. Then, you can add entries into the dictionary by using square brackets to add a new key, whose value is whatever you put on the right hand side of the equals/assignment operator."
   ]
  },
  {
   "cell_type": "code",
   "execution_count": 89,
   "metadata": {},
   "outputs": [
    {
     "data": {
      "text/plain": [
       "{0: 'first', 'second': 2}"
      ]
     },
     "execution_count": 89,
     "metadata": {},
     "output_type": "execute_result"
    }
   ],
   "source": [
    "my_new_dict = {}\n",
    "\n",
    "my_new_dict[0] = 'first'\n",
    "my_new_dict['second'] = 2\n",
    "\n",
    "my_new_dict"
   ]
  },
  {
   "cell_type": "code",
   "execution_count": 90,
   "metadata": {},
   "outputs": [
    {
     "ename": "TypeError",
     "evalue": "list indices must be integers or slices, not str",
     "output_type": "error",
     "traceback": [
      "\u001b[0;31m---------------------------------------------------------------------------\u001b[0m",
      "\u001b[0;31mTypeError\u001b[0m                                 Traceback (most recent call last)",
      "Cell \u001b[0;32mIn[90], line 1\u001b[0m\n\u001b[0;32m----> 1\u001b[0m \u001b[43mmy_list\u001b[49m\u001b[43m[\u001b[49m\u001b[38;5;124;43m'\u001b[39;49m\u001b[38;5;124;43mwhat\u001b[39;49m\u001b[38;5;124;43m'\u001b[39;49m\u001b[43m]\u001b[49m\n",
      "\u001b[0;31mTypeError\u001b[0m: list indices must be integers or slices, not str"
     ]
    }
   ],
   "source": [
    "my_list['what']"
   ]
  },
  {
   "cell_type": "markdown",
   "metadata": {},
   "source": [
    "As mentioned, dictionaries can be indexed like lists and tuples, but the code you put in between the brackets doesn't necessarily need to be an integer, but rather whatever you set the keys as. For instance, in the dictionary we just created we specified a key to be the string \"second\" so we can directly index on that.\n",
    "\n",
    ":::{note}\n",
    "Just a quick note on indexing errors. If you tried to index on a list or tuple for an element that's not in the collection you might have seen an error like (e.g. `my_list[999]`:\n",
    "\n",
    "`IndexError: list index out of range`\n",
    "\n",
    "or if you put something other than an integer in as an indexer (like `my_tuple['whats in here']`):\n",
    "\n",
    "`TypeError: tuple indices must be integers or slices, not str`\n",
    "\n",
    "But, for dictionaries the generic error for something named `failed_key` is:\n",
    "\n",
    "`KeyError: failed_key`\n",
    ":::"
   ]
  },
  {
   "cell_type": "code",
   "execution_count": 91,
   "metadata": {},
   "outputs": [
    {
     "data": {
      "text/plain": [
       "2"
      ]
     },
     "execution_count": 91,
     "metadata": {},
     "output_type": "execute_result"
    }
   ],
   "source": [
    "my_new_dict['second']"
   ]
  },
  {
   "cell_type": "markdown",
   "metadata": {},
   "source": [
    "As always, there are more things that you can do with dictionaries than we can cover here, but it's worth highlighting a couple of pieces of functionality. First off, if you want to look at all of the individual keys or values in your dictionary you can use the the `keys` and `values` methods. Additionally, these can be converted to lists or tuples, which is sometimes easier to work with. If you want to try to get something out of a dictionary, but aren't sure it will be in there you can try use the `.get` method to specify both a `key` and a `default` so that if the key doesn't exist you don't get a `KeyError` but rather whatever default value you specify. This can be useful when you're ingesting data from others and don't necessarily know what you'll get."
   ]
  },
  {
   "cell_type": "code",
   "execution_count": 92,
   "metadata": {},
   "outputs": [
    {
     "data": {
      "text/plain": [
       "dict_keys([0, 'second'])"
      ]
     },
     "execution_count": 92,
     "metadata": {},
     "output_type": "execute_result"
    }
   ],
   "source": [
    "my_new_dict.keys()"
   ]
  },
  {
   "cell_type": "code",
   "execution_count": 93,
   "metadata": {},
   "outputs": [
    {
     "data": {
      "text/plain": [
       "dict_values(['first', 2])"
      ]
     },
     "execution_count": 93,
     "metadata": {},
     "output_type": "execute_result"
    }
   ],
   "source": [
    "my_new_dict.values()"
   ]
  },
  {
   "cell_type": "code",
   "execution_count": 94,
   "metadata": {},
   "outputs": [
    {
     "data": {
      "text/plain": [
       "'some default'"
      ]
     },
     "execution_count": 94,
     "metadata": {},
     "output_type": "execute_result"
    }
   ],
   "source": [
    "my_new_dict.get('bad value', 'some default')"
   ]
  },
  {
   "cell_type": "markdown",
   "metadata": {
    "tags": []
   },
   "source": [
    "## Control flow: loops and conditionals\n",
    "\n",
    "Now that you know something about different data types we can talk about how to specify operations on those data types in a concise and controlled manner. Generally, we talk about controlling the flow of data through a program via either loops or conditionals. There are multiple ways that these concepts can be inplemented in a programming langauge, but for python you mainly can get by with `for` loops, `while` loops, and `if` statements. Let's start with talking about `if` statements because they're generally the easiest to understand and provide a good jumping off point for some of the finer points of python syntax.\n",
    "\n",
    "### `if` statements\n",
    "A common programming workflow is to check if some condition is met and do one thing if it is and possibly another if it is not. This is encoded in the `if` statement. This can be a bit hard to wrap your head around in code without some examples, so let's just start out with some super basic examples. For instance if you just wanted to see if a number was greater than 0 and if so, print it out you would do the following:"
   ]
  },
  {
   "cell_type": "code",
   "execution_count": 97,
   "metadata": {},
   "outputs": [
    {
     "name": "stdout",
     "output_type": "stream",
     "text": [
      "999\n"
     ]
    }
   ],
   "source": [
    "number = 999\n",
    "if number > 0:\n",
    "    print(number)"
   ]
  },
  {
   "cell_type": "code",
   "execution_count": 96,
   "metadata": {},
   "outputs": [],
   "source": [
    "number = -1\n",
    "if number > 0:\n",
    "    print(number)"
   ]
  },
  {
   "cell_type": "code",
   "execution_count": null,
   "metadata": {},
   "outputs": [],
   "source": []
  },
  {
   "cell_type": "markdown",
   "metadata": {
    "tags": []
   },
   "source": [
    "### `for` loops\n",
    "\n",
    "### `while` loops\n",
    "`while` loops are something like a combination of `if` statements and `for` loops. They are somewhat uncommon to encounter in basic scientific workflows, but it's worth discussing them just so you're aware of their existence and to contrast and compare with the other control flow methods.\n",
    "`while` loops specif a condition (which evaluates to a `bool`) to keep going, like done in the `if` statement, but they repeat the same \n",
    "\n",
    "Loops are ways of doing something multiple times.\n",
    "\n",
    "There are 2 main kinds. `while` and `for`\n",
    "\n",
    "\n",
    "`for` specifies the sequence of things you want to operate on\n",
    "\n",
    "Imagine you wanted to add up numbers. Typing all this out would be terribly boring"
   ]
  },
  {
   "cell_type": "code",
   "execution_count": null,
   "metadata": {},
   "outputs": [],
   "source": [
    "x = 0\n",
    "x = x + 1\n",
    "x = x + 2\n",
    "x = x + 3\n",
    "x = x + 4\n",
    "x"
   ]
  },
  {
   "cell_type": "code",
   "execution_count": null,
   "metadata": {},
   "outputs": [],
   "source": [
    "limit = 30\n",
    "x = 0\n",
    "x <= limit"
   ]
  },
  {
   "cell_type": "code",
   "execution_count": null,
   "metadata": {},
   "outputs": [],
   "source": [
    "limit = 30\n",
    "x = 0\n",
    "n = 1\n",
    "\n",
    "while x <= limit:\n",
    "    print(x)\n",
    "    x = x + n \n",
    "    n = n + 1\n",
    "    \n",
    "print()\n",
    "print('limit exceeded! x is now:')\n",
    "print(x)"
   ]
  },
  {
   "cell_type": "markdown",
   "metadata": {},
   "source": [
    "## For loops operate on sequences directly\n",
    "\n",
    "## To get a stream of increasing numbers you can use `range`:"
   ]
  },
  {
   "cell_type": "code",
   "execution_count": null,
   "metadata": {},
   "outputs": [],
   "source": [
    "for i in range(5):\n",
    "    print(i, message[i])\n",
    "    "
   ]
  },
  {
   "cell_type": "code",
   "execution_count": null,
   "metadata": {
    "tags": []
   },
   "outputs": [],
   "source": [
    "## Additionally, it's very common to get the length of an object via the `len` function and put that into `range` (Shoutout to Lauren Cutler on this one)"
   ]
  },
  {
   "cell_type": "code",
   "execution_count": null,
   "metadata": {},
   "outputs": [],
   "source": [
    "for i in range(len(my_tuple)):\n",
    "    print(i, my_tuple[i])"
   ]
  },
  {
   "cell_type": "markdown",
   "metadata": {},
   "source": [
    "## Finally, you can put anything that looks like a sequence of other things into the `for` loop directly"
   ]
  },
  {
   "cell_type": "code",
   "execution_count": null,
   "metadata": {},
   "outputs": [],
   "source": [
    "all_my_values = [5,2,9]\n",
    "for v in all_my_values:\n",
    "    print(v, v*v)"
   ]
  },
  {
   "cell_type": "markdown",
   "metadata": {
    "tags": []
   },
   "source": [
    "## Functions\n",
    "\n",
    "Functions are much like math functions\n",
    "\n",
    "They take an input and do something with it to produce an output"
   ]
  },
  {
   "cell_type": "code",
   "execution_count": null,
   "metadata": {},
   "outputs": [],
   "source": [
    "# def starts a new function\n",
    "# | \n",
    "# |  this is the name of the new function\n",
    "# |  |\n",
    "# |  |          this is an input variable to the function\n",
    "# |  |          |\n",
    "# v  v          v\n",
    "def my_function(in_var):\n",
    "    intermediate = in_var * 8\n",
    "    out_var = intermediate + 1\n",
    "    return out_var\n",
    "#          ^\n",
    "#          |\n",
    "#          this is what will come out"
   ]
  },
  {
   "cell_type": "code",
   "execution_count": null,
   "metadata": {},
   "outputs": [],
   "source": [
    "def my_function(in_var):\n",
    "    intermediate = in_var * 8\n",
    "    out_var = intermediate + 1\n",
    "    return out_var"
   ]
  },
  {
   "cell_type": "code",
   "execution_count": null,
   "metadata": {},
   "outputs": [],
   "source": [
    "my_function(0)"
   ]
  },
  {
   "cell_type": "code",
   "execution_count": null,
   "metadata": {},
   "outputs": [],
   "source": [
    "my_function(4)"
   ]
  },
  {
   "cell_type": "code",
   "execution_count": null,
   "metadata": {},
   "outputs": [],
   "source": [
    "my_function(x)"
   ]
  },
  {
   "cell_type": "code",
   "execution_count": null,
   "metadata": {},
   "outputs": [],
   "source": [
    "outs = []\n",
    "for i in range(4):\n",
    "    outs.append(my_function(i))\n",
    "    \n",
    "print(outs)"
   ]
  },
  {
   "cell_type": "markdown",
   "metadata": {
    "tags": []
   },
   "source": [
    "# Importing other modules\n",
    "\n",
    "One of the reasons python has become very popular in data science is the number of useful packages it has\n",
    "\n",
    "We will only look at a couple today that are included in your basic python installation\n",
    "\n",
    "Later in the semester we'll look at some developed by the data science community\n",
    "\n",
    "For now, we can look at the `import` keyword"
   ]
  },
  {
   "cell_type": "code",
   "execution_count": null,
   "metadata": {},
   "outputs": [],
   "source": [
    "import math"
   ]
  },
  {
   "cell_type": "code",
   "execution_count": null,
   "metadata": {},
   "outputs": [],
   "source": [
    "math.sin"
   ]
  },
  {
   "cell_type": "code",
   "execution_count": null,
   "metadata": {},
   "outputs": [],
   "source": [
    "math.cos(math.pi)"
   ]
  },
  {
   "cell_type": "markdown",
   "metadata": {},
   "source": [
    "## How do we know what functions we get from importing a module?\n",
    "\n",
    "You can run the `dir` function on the module name directly\n",
    "\n",
    "Ignoring the ones that start with `__` (it's a weird python thing) you can see all of our basic math functions"
   ]
  },
  {
   "cell_type": "code",
   "execution_count": null,
   "metadata": {},
   "outputs": [],
   "source": [
    "dir(math)"
   ]
  },
  {
   "cell_type": "markdown",
   "metadata": {},
   "source": [
    "## That's all for now\n",
    "\n",
    "So that was a whirlwind tour of python. Some of the concepts might still be a bit hazy or confusing, but that's okay.\n",
    "\n",
    "If you want to explore further the official python tutorial has a ton of extra content: https://docs.python.org/3/tutorial/"
   ]
  }
 ],
 "metadata": {
  "kernelspec": {
   "display_name": "Python 3 (ipykernel)",
   "language": "python",
   "name": "python3"
  },
  "language_info": {
   "codemirror_mode": {
    "name": "ipython",
    "version": 3
   },
   "file_extension": ".py",
   "mimetype": "text/x-python",
   "name": "python",
   "nbconvert_exporter": "python",
   "pygments_lexer": "ipython3",
   "version": "3.11.0"
  }
 },
 "nbformat": 4,
 "nbformat_minor": 4
}
