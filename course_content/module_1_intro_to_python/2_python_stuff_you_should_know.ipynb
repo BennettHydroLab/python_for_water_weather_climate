{
 "cells": [
  {
   "cell_type": "markdown",
   "metadata": {},
   "source": [
    "# Intermediate python - Or, stuff you should know\n",
    "\n",
    "Now that you've seen the basics of python syntax, control flow, and data structures, it's worth diving into a few key aspects of the language that will improve your quality of life when writing notebooks and simple scripts. \n",
    "\n",
    ":::{warning}\n",
    "This section is not strictly necessary for succesfully progressing in the material, but we will be using these concepts and code-constructs throughout the coming chapters. Mainly, we will try to use these concepts to simplify some code so that you can focus on the core concepts for each chapter, but being able to understand them in their own right will be useful when writing your own code.\n",
    ":::"
   ]
  },
  {
   "cell_type": "markdown",
   "metadata": {},
   "source": [
    "## Comprehensions\n",
    "\n",
    "As motivation here, suppose you want to just apply some simple function to a list of inputs. Perhaps you just want to take the squares of a bunch of numbers. Given what you know from the previous section, you should be able to work out a basic `for` loop solution that might look like the following:\n"
   ]
  },
  {
   "cell_type": "code",
   "execution_count": 4,
   "metadata": {},
   "outputs": [
    {
     "name": "stdout",
     "output_type": "stream",
     "text": [
      "[4, 25, 81, 196, 361]\n"
     ]
    }
   ],
   "source": [
    "input_numbers = [2, 5, 9, 14, 19]\n",
    "squared_numbers = []\n",
    "for n in input_numbers:\n",
    "    squared_numbers.append(n ** 2)\n",
    "\n",
    "print(squared_numbers)"
   ]
  },
  {
   "cell_type": "markdown",
   "metadata": {},
   "source": [
    "This probably feels like a lot of code to write for performing such a simple operation, and you'd be right for having that thought. Most high-level programming languages have tricks to avoid writing verbose code, and python is no difference. The way that we can do that here is to use what's called a \"list comprehension\". Without getting too in the weeds, you can just imagine putting the `for` loop inside of the brackets (`[` and `]`) that define a list. Let's just see the translation to keep things concrete:"
   ]
  },
  {
   "cell_type": "code",
   "execution_count": 6,
   "metadata": {},
   "outputs": [
    {
     "name": "stdout",
     "output_type": "stream",
     "text": [
      "[4, 25, 81, 196, 361]\n"
     ]
    }
   ],
   "source": [
    "squared_numbers = [n**2 for n in input_numbers]\n",
    "print(squared_numbers)"
   ]
  },
  {
   "cell_type": "markdown",
   "metadata": {},
   "source": [
    "As you can see this is a much simpler way to perform the same computation, thought it does come at the cost of generality and requires you to remember the syntax for writing list comprehensions. As a general rule of thumb, list comprehensions are mainly useful for making your code more readable, but don't offer any large performance benefits or new functionality that can't be achieved with a regular `for` loop. We will be using list comprehensions in the example code to keep things concise."
   ]
  },
  {
   "cell_type": "markdown",
   "metadata": {},
   "source": [
    "## Some iteration tricks\n",
    "\n",
    "### Keeping track of indices with `enumerate`\n",
    "\n",
    "### Iterating through multiple sequences with `zip`\n",
    "\n",
    "### Iterating through dictionaries: `keys()`, `values()`, and `items()`\n",
    "\n",
    "### Selective iteration: `break` and `continue`"
   ]
  },
  {
   "cell_type": "markdown",
   "metadata": {},
   "source": [
    "## `f`-Strings\n",
    "\n",
    "In python there is a really nice way to insert values \n",
    "from variables into a string variable. This task is \n",
    "referred to in programming as string formatting. In the\n",
    "past there were other ways to do this in python, but \n",
    "a few years ago they added this approach which is generally\n",
    "seen as the best way to do this. For an overview see this:\n",
    "- https://realpython.com/python-f-strings/"
   ]
  },
  {
   "cell_type": "code",
   "execution_count": 11,
   "metadata": {},
   "outputs": [
    {
     "name": "stdout",
     "output_type": "stream",
     "text": [
      "The average of my random numbers is 29.25\n",
      "The average of my random numbers is 29.25\n"
     ]
    }
   ],
   "source": [
    "some_numbers = [5, 1, 99, 12]\n",
    "print('The average of my random numbers is', sum(some_numbers) / len(some_numbers))\n",
    "print(f'The average of my random numbers is {sum(some_numbers) / len(some_numbers)}')"
   ]
  },
  {
   "cell_type": "markdown",
   "metadata": {},
   "source": [
    "## Multi-argument functions"
   ]
  },
  {
   "cell_type": "code",
   "execution_count": null,
   "metadata": {},
   "outputs": [],
   "source": []
  }
 ],
 "metadata": {
  "kernelspec": {
   "display_name": "all",
   "language": "python",
   "name": "all"
  },
  "language_info": {
   "codemirror_mode": {
    "name": "ipython",
    "version": 3
   },
   "file_extension": ".py",
   "mimetype": "text/x-python",
   "name": "python",
   "nbconvert_exporter": "python",
   "pygments_lexer": "ipython3",
   "version": "3.7.11"
  }
 },
 "nbformat": 4,
 "nbformat_minor": 4
}
