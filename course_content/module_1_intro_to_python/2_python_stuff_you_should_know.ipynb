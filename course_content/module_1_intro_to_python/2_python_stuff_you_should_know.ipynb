{
 "cells": [
  {
   "cell_type": "markdown",
   "metadata": {},
   "source": [
    "# Intermediate python - Or, stuff you should know\n",
    "\n",
    "Now that you've seen the basics of python syntax, control flow, and data structures, it's worth diving into a few key aspects of the language that will improve your quality of life when writing notebooks and simple scripts. \n",
    "\n",
    ":::{warning}\n",
    "This section is not strictly necessary for succesfully progressing in the material, but we will be using these concepts and code-constructs throughout the coming chapters. Mainly, we will try to use these concepts to simplify some code so that you can focus on the core concepts for each chapter, but being able to understand them in their own right will be useful when writing your own code.\n",
    ":::"
   ]
  },
  {
   "cell_type": "markdown",
   "metadata": {},
   "source": [
    "## Comprehensions\n",
    "\n",
    "As motivation here, suppose you want to just apply some simple function to a list of inputs. Perhaps you just want to take the squares of a bunch of numbers. Given what you know from the previous section, you should be able to work out a basic `for` loop solution that might look like the following:\n"
   ]
  },
  {
   "cell_type": "code",
   "execution_count": 4,
   "metadata": {},
   "outputs": [
    {
     "name": "stdout",
     "output_type": "stream",
     "text": [
      "[4, 25, 81, 196, 361]\n"
     ]
    }
   ],
   "source": [
    "input_numbers = [2, 5, 9, 14, 19]\n",
    "squared_numbers = []\n",
    "for n in input_numbers:\n",
    "    squared_numbers.append(n ** 2)\n",
    "\n",
    "print(squared_numbers)"
   ]
  },
  {
   "cell_type": "markdown",
   "metadata": {},
   "source": [
    "This probably feels like a lot of code to write for performing such a simple operation, and you'd be right for having that thought. Most high-level programming languages have tricks to avoid writing verbose code, and python is no difference. The way that we can do that here is to use what's called a \"list comprehension\". Without getting too in the weeds, you can just imagine putting the `for` loop inside of the brackets (`[` and `]`) that define a list. Let's just see the translation to keep things concrete:"
   ]
  },
  {
   "cell_type": "code",
   "execution_count": 6,
   "metadata": {},
   "outputs": [
    {
     "name": "stdout",
     "output_type": "stream",
     "text": [
      "[4, 25, 81, 196, 361]\n"
     ]
    }
   ],
   "source": [
    "squared_numbers = [n**2 for n in input_numbers]\n",
    "print(squared_numbers)"
   ]
  },
  {
   "cell_type": "markdown",
   "metadata": {},
   "source": [
    "As you can see this is a much simpler way to perform the same computation, thought it does come at the cost of generality and requires you to remember the syntax for writing list comprehensions. As a general rule of thumb, list comprehensions are mainly useful for making your code more readable, but don't offer any large performance benefits or new functionality that can't be achieved with a regular `for` loop. We will be using list comprehensions in the example code to keep things concise."
   ]
  },
  {
   "attachments": {},
   "cell_type": "markdown",
   "metadata": {},
   "source": [
    "## Some iteration tricks\n",
    "By now you should be familiar with the basic `for` loop syntax, but there are a few tricks that can make your life easier when writing code. We'll go through a few of them here.\n",
    "\n",
    "### Keeping track of indices with `enumerate`\n",
    "The `enumerate` function is a useful tool for keeping track of the indices of the elements in a list as you iterate over them.  As an example, let's consider the following: Suppose you have a list of numbers and you want to find the indices of the negative numbers in the list. You can easily do this with a `for` loop and the `enumerate` function as follows:\n"
   ]
  },
  {
   "cell_type": "code",
   "execution_count": 1,
   "metadata": {},
   "outputs": [
    {
     "name": "stdout",
     "output_type": "stream",
     "text": [
      "4\n",
      "7\n"
     ]
    }
   ],
   "source": [
    "number_list = [1, 2, 7, 4, -5, 6, 3, -2, 9]\n",
    "for i, n in enumerate(number_list):\n",
    "    if n < 0:\n",
    "        print(i)"
   ]
  },
  {
   "attachments": {},
   "cell_type": "markdown",
   "metadata": {},
   "source": [
    "### Iterating through multiple sequences with `zip`\n",
    "Suppose you have two lists of numbers and you want to iterate over them simultaneously. For example, suppose you have a list of numbers and a list of letters, and you want to print out the number and letters together. You can do this with a `for` loop and the `zip` function as follows:"
   ]
  },
  {
   "cell_type": "code",
   "execution_count": 3,
   "metadata": {},
   "outputs": [
    {
     "name": "stdout",
     "output_type": "stream",
     "text": [
      "a 5\n",
      "b 4\n",
      "c 3\n",
      "d 2\n",
      "e 1\n"
     ]
    }
   ],
   "source": [
    "letters = ['a', 'b', 'c', 'd', 'e']\n",
    "numbers = [5, 4, 3, 2, 1]\n",
    "\n",
    "for l, n in zip(letters, numbers):\n",
    "    print(l, n)"
   ]
  },
  {
   "attachments": {},
   "cell_type": "markdown",
   "metadata": {},
   "source": [
    "### Iterating through dictionaries: `keys()`, `values()`, and `items()`\n",
    "As you saw in the previous section, dictionaries are a useful data structure for storing key-value pairs. Suppose you have a dictionary and you want to iterate over the keys and values. You can do this with a `for` loop and the `keys()`, `values()`, and `items()` functions as follows:"
   ]
  },
  {
   "cell_type": "code",
   "execution_count": 4,
   "metadata": {},
   "outputs": [
    {
     "name": "stdout",
     "output_type": "stream",
     "text": [
      "a 1\n",
      "b 2\n",
      "c 3\n",
      "--------------------------------------------------\n",
      "a\n",
      "b\n",
      "c\n",
      "--------------------------------------------------\n",
      "1\n",
      "2\n",
      "3\n"
     ]
    }
   ],
   "source": [
    "my_dict = {'a': 1, 'b': 2, 'c': 3}\n",
    "\n",
    "for key, value in my_dict.items():\n",
    "    print(key, value)\n",
    "\n",
    "print('--------------------------------------------------')\n",
    "\n",
    "for key in my_dict.keys():\n",
    "    print(key)\n",
    "\n",
    "print('--------------------------------------------------')\n",
    "\n",
    "for value in my_dict.values():\n",
    "    print(value)\n"
   ]
  },
  {
   "attachments": {},
   "cell_type": "markdown",
   "metadata": {},
   "source": [
    "\n",
    "### Selective iteration: `break` and `continue`\n",
    "\n",
    "Sometimes you want to iterate over a list, but you only want to do something if some condition is met. For example, suppose you have a list of numbers and you want to compute their square roots, but only if the number is positive to avoid errors. The `continue` keyword allows you to skip over the remaining code in the loop and move on to the next element in the iteration. You can do this with a `for` loop and the `continue` function as follows:"
   ]
  },
  {
   "cell_type": "code",
   "execution_count": 14,
   "metadata": {},
   "outputs": [
    {
     "name": "stdout",
     "output_type": "stream",
     "text": [
      "Number:  1  |  Square root:  1.0\n",
      "Number:  2  |  Square root:  1.4142135623730951\n",
      "Number:  7  |  Square root:  2.6457513110645907\n",
      "Number:  4  |  Square root:  2.0\n",
      "Number:  6  |  Square root:  2.449489742783178\n",
      "Number:  3  |  Square root:  1.7320508075688772\n",
      "Number:  9  |  Square root:  3.0\n"
     ]
    }
   ],
   "source": [
    "import math\n",
    "\n",
    "number_list = [1, 2, 7, 4, -5, 6, 3, -2, 9]\n",
    "\n",
    "for n in number_list:\n",
    "    if n < 0:\n",
    "        continue\n",
    "    print('Number: ', n, ' |  Square root: ', math.sqrt(n))"
   ]
  },
  {
   "attachments": {},
   "cell_type": "markdown",
   "metadata": {},
   "source": [
    "Similarly, the `break` keyword allows you to exit the loop early. For example, suppose you have a list of numbers and you want to find the first negative number in the list. You can do this with a `for` loop and the `break` function as follows:"
   ]
  },
  {
   "cell_type": "code",
   "execution_count": 12,
   "metadata": {},
   "outputs": [
    {
     "name": "stdout",
     "output_type": "stream",
     "text": [
      "The first negative number in the list is:  -5\n"
     ]
    }
   ],
   "source": [
    "for n in number_list:\n",
    "    if n < 0:\n",
    "        break\n",
    "\n",
    "print('The first negative number in the list is: ', n)"
   ]
  },
  {
   "cell_type": "markdown",
   "metadata": {},
   "source": [
    "## `f`-Strings\n",
    "\n",
    "In python there is a really nice way to insert values \n",
    "from variables into a string variable. This task is \n",
    "referred to in programming as string formatting. In the\n",
    "past there were other ways to do this in python, but \n",
    "a few years ago they added this approach which is generally\n",
    "seen as the best way to do this. For an overview see this:\n",
    "- https://realpython.com/python-f-strings/"
   ]
  },
  {
   "cell_type": "code",
   "execution_count": 11,
   "metadata": {},
   "outputs": [
    {
     "name": "stdout",
     "output_type": "stream",
     "text": [
      "The average of my random numbers is 29.25\n",
      "The average of my random numbers is 29.25\n"
     ]
    }
   ],
   "source": [
    "some_numbers = [5, 1, 99, 12]\n",
    "print('The average of my random numbers is', sum(some_numbers) / len(some_numbers))\n",
    "print(f'The average of my random numbers is {sum(some_numbers) / len(some_numbers)}')"
   ]
  },
  {
   "attachments": {},
   "cell_type": "markdown",
   "metadata": {},
   "source": [
    "## Multi-argument functions\n",
    "\n",
    "In python, you can define functions that take multiple arguments. For example, suppose you want to define a function that takes two numbers and returns their greatest common divisor. You can do this as follows:"
   ]
  },
  {
   "cell_type": "code",
   "execution_count": 16,
   "metadata": {},
   "outputs": [],
   "source": [
    "def greatest_common_divisor(a, b):\n",
    "    while b != 0:\n",
    "        a, b = b, a % b\n",
    "    return a"
   ]
  },
  {
   "attachments": {},
   "cell_type": "markdown",
   "metadata": {},
   "source": [
    "With the above function, you can now compute the greatest common divisor of two numbers. For example, the greatest common divisor of 12 and 8 is 4, so we can compute this as follows:"
   ]
  },
  {
   "cell_type": "code",
   "execution_count": 18,
   "metadata": {},
   "outputs": [
    {
     "data": {
      "text/plain": [
       "4"
      ]
     },
     "execution_count": 18,
     "metadata": {},
     "output_type": "execute_result"
    }
   ],
   "source": [
    "\n",
    "greatest_common_divisor(12, 8)"
   ]
  },
  {
   "attachments": {},
   "cell_type": "markdown",
   "metadata": {},
   "source": [
    "But, to use this function you must provide two arguments. If you try to call the function with only one argument, you will get an error telling you that you missed an argument:"
   ]
  },
  {
   "cell_type": "code",
   "execution_count": 19,
   "metadata": {},
   "outputs": [
    {
     "ename": "TypeError",
     "evalue": "greatest_common_divisor() missing 1 required positional argument: 'b'",
     "output_type": "error",
     "traceback": [
      "\u001b[0;31m---------------------------------------------------------------------------\u001b[0m",
      "\u001b[0;31mTypeError\u001b[0m                                 Traceback (most recent call last)",
      "\u001b[0;32m/tmp/ipykernel_438456/1841038563.py\u001b[0m in \u001b[0;36m<module>\u001b[0;34m\u001b[0m\n\u001b[0;32m----> 1\u001b[0;31m \u001b[0mgreatest_common_divisor\u001b[0m\u001b[0;34m(\u001b[0m\u001b[0;36m5\u001b[0m\u001b[0;34m)\u001b[0m\u001b[0;34m\u001b[0m\u001b[0;34m\u001b[0m\u001b[0m\n\u001b[0m",
      "\u001b[0;31mTypeError\u001b[0m: greatest_common_divisor() missing 1 required positional argument: 'b'"
     ]
    }
   ],
   "source": [
    "greatest_common_divisor(5)"
   ]
  },
  {
   "attachments": {},
   "cell_type": "markdown",
   "metadata": {},
   "source": [
    "### Wrapping up\n",
    "\n",
    "In this section we covered a few key concepts that will make your life easier when writing code. In particular, we covered list comprehensions, some iteration tricks, and multi-argument functions. These are only the tip of the iceberg, but they should be enough to get you started. If you want to learn more, remember to check out the resources in the Further Reading resources."
   ]
  }
 ],
 "metadata": {
  "kernelspec": {
   "display_name": "Python 3 (ipykernel)",
   "language": "python",
   "name": "python3"
  },
  "language_info": {
   "codemirror_mode": {
    "name": "ipython",
    "version": 3
   },
   "file_extension": ".py",
   "mimetype": "text/x-python",
   "name": "python",
   "nbconvert_exporter": "python",
   "pygments_lexer": "ipython3",
   "version": "3.7.11"
  }
 },
 "nbformat": 4,
 "nbformat_minor": 4
}
