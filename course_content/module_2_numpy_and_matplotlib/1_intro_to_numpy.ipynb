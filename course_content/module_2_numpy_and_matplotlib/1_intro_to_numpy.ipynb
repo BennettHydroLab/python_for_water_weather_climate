{
 "cells": [
  {
   "cell_type": "markdown",
   "id": "ef1b0235-c59f-403d-8cdc-7e323c26e846",
   "metadata": {},
   "source": [
    "# Introduction to numpy\n",
    "\n",
    "The numpy library is short for \"numerical python\"\n",
    "In this script I will motivate numpy as well\n",
    "as provide an introduction to it's functionality\n",
    "Numpy is a huge library with tons of capabilities\n",
    "so there will be a lot we don't cover.\n",
    "The numpy documentation is excellent though:\n",
    "https://numpy.org/doc/stable/\n",
    "\n",
    "There is also a really good quickstart guide\n",
    "that covers many of the things we will see here too:\n",
    "https://numpy.org/doc/stable/user/quickstart.html\n",
    "\n",
    "To start with numpy you can import it. The \n",
    "line `import numpy as np` is the standard way\n",
    "to import it. This just renames `numpy` as `np`\n",
    "to save you time on typing\n",
    "I'm also importing math so that we can compare\n",
    "and finally the function from the previous script"
   ]
  },
  {
   "cell_type": "code",
   "execution_count": 1,
   "id": "86c6b407-e2de-4b82-adfd-fbf25ee442c8",
   "metadata": {},
   "outputs": [],
   "source": [
    "import time\n",
    "import math\n",
    "import numpy as np\n",
    "\n",
    "def air_pressure_at_height(h):\n",
    "    p0 = 101325      # reference pressure in pascals\n",
    "    M = 0.02896968   # molar mass of air kg/mol\n",
    "    g = 9.81         # gravity m/s2\n",
    "    R0 = 8.314462618 # gas constant J/(mol·K) \n",
    "    T = 273          # temp in kelvin\n",
    "\n",
    "    ratio = -(g * h * M) / (R0 * T)\n",
    "    # NOTE: here I changed math.exp -> np.exp, \n",
    "    #       you will see why in a minute\n",
    "    p_h = p0 * np.exp(ratio)\n",
    "    return p_h"
   ]
  },
  {
   "cell_type": "code",
   "execution_count": 2,
   "id": "1835b75b-fcb4-4b90-b989-d494f6f54020",
   "metadata": {},
   "outputs": [],
   "source": [
    "# Heights to calculate pressure at\n",
    "start = 0\n",
    "end = 20000\n",
    "step = 1"
   ]
  },
  {
   "cell_type": "code",
   "execution_count": 3,
   "id": "1772ec8e-9f9e-4b51-84f8-ffaf649180b6",
   "metadata": {},
   "outputs": [
    {
     "name": "stdout",
     "output_type": "stream",
     "text": [
      "With plain python this took: 0.04263567924499512  seconds\n"
     ]
    }
   ],
   "source": [
    "t0 = time.time() \n",
    "h_list = range(start, end, step)\n",
    "p_list = [] \n",
    "\n",
    "for height in h_list: \n",
    "    p_h = air_pressure_at_height(height)\n",
    "    p_list.append(p_h) \n",
    "\n",
    "t1 = time.time()\n",
    "base_python_time = t1-t0\n",
    "print(\"With plain python this took:\", base_python_time, \" seconds\")"
   ]
  },
  {
   "cell_type": "code",
   "execution_count": 4,
   "id": "268213fa-e23a-482e-9e0b-34f5be54fa81",
   "metadata": {},
   "outputs": [
    {
     "name": "stdout",
     "output_type": "stream",
     "text": [
      "With numpy this took: 0.0008068084716796875  seconds\n",
      "Numpy version is  52.844858156028366  times faster\n"
     ]
    }
   ],
   "source": [
    "t0 = time.time()\n",
    "h_array = np.arange(start, end, step)\n",
    "p_array = air_pressure_at_height(h_array)\n",
    "t1 = time.time()\n",
    "numpy_time = t1-t0\n",
    "print(\"With numpy this took:\", numpy_time, \" seconds\")\n",
    "print(\"Numpy version is \", base_python_time/numpy_time, \" times faster\")"
   ]
  },
  {
   "cell_type": "markdown",
   "id": "7f80e95a-522c-4791-8fed-2d7845496d6c",
   "metadata": {},
   "source": [
    "Okay, so how did that work?\n",
    "Numpy is an \"array-based\" library, meaning it defines the \"array\" type\n",
    "Here you can see we have `h_array` is an `ndarray`, which means \n",
    "N-dimensional array. In our case N=1. We can also look at the shape\n",
    "NOTE: The length of the shape is always equal to the number of dimensions"
   ]
  },
  {
   "cell_type": "code",
   "execution_count": 5,
   "id": "ecbcc8e1-4fb7-4c51-b373-e81ccce128a1",
   "metadata": {},
   "outputs": [
    {
     "name": "stdout",
     "output_type": "stream",
     "text": [
      "<class 'numpy.ndarray'>\n",
      "1\n",
      "(20000,)\n",
      "True\n"
     ]
    }
   ],
   "source": [
    "print(type(h_array))\n",
    "print(h_array.ndim)\n",
    "print(h_array.shape) \n",
    "print(len(h_array.shape) == h_array.ndim)"
   ]
  },
  {
   "cell_type": "markdown",
   "id": "a93172a2-05b5-4bca-b44e-39cd593ba690",
   "metadata": {},
   "source": [
    "# What else can you do with numpy? Basically anything with numbers!"
   ]
  },
  {
   "cell_type": "code",
   "execution_count": 6,
   "id": "976c3910-58d8-4114-8a7e-ddc24a8fbbd8",
   "metadata": {},
   "outputs": [
    {
     "name": "stdout",
     "output_type": "stream",
     "text": [
      "[[1. 1. 1. 1. 1.]\n",
      " [1. 1. 1. 1. 1.]\n",
      " [1. 1. 1. 1. 1.]\n",
      " [1. 1. 1. 1. 1.]\n",
      " [1. 1. 1. 1. 1.]]\n",
      "(5, 5)\n",
      "\n"
     ]
    }
   ],
   "source": [
    "array_shape = (5, 5)\n",
    "\n",
    "# Create an array of all ones with a specific shape\n",
    "ones_matrix = np.ones(array_shape)\n",
    "print(ones_matrix)\n",
    "print(ones_matrix.shape)\n",
    "print()"
   ]
  },
  {
   "cell_type": "markdown",
   "id": "7f4e156d-20f0-47ae-aa00-0ddd004b0c39",
   "metadata": {},
   "source": [
    "# Numpy also makes math easier to do, now you can just multiply numbers and any ndarray object"
   ]
  },
  {
   "cell_type": "code",
   "execution_count": 7,
   "id": "4ae6c65a-edf6-4ed0-b403-9eb85d9fa28b",
   "metadata": {},
   "outputs": [
    {
     "name": "stdout",
     "output_type": "stream",
     "text": [
      "[[0.1 0.1 0.1 0.1 0.1]\n",
      " [0.1 0.1 0.1 0.1 0.1]\n",
      " [0.1 0.1 0.1 0.1 0.1]\n",
      " [0.1 0.1 0.1 0.1 0.1]\n",
      " [0.1 0.1 0.1 0.1 0.1]]\n",
      "\n"
     ]
    }
   ],
   "source": [
    "print(0.1 * ones_matrix)\n",
    "print()"
   ]
  },
  {
   "cell_type": "markdown",
   "id": "e184d1a9-9bda-469b-802e-29a674d1cde2",
   "metadata": {},
   "source": [
    "# You can also operate on arrays with other numpy functions\n",
    "\n",
    "First we'll cover some handy functions:"
   ]
  },
  {
   "cell_type": "code",
   "execution_count": 8,
   "id": "59ced833-0f46-4b51-a2f0-e92050f27707",
   "metadata": {},
   "outputs": [
    {
     "name": "stdout",
     "output_type": "stream",
     "text": [
      "25.0\n",
      "[5. 5. 5. 5. 5.]\n",
      "[0 1 2]\n",
      "\n",
      "[[0 1 2]\n",
      " [3 4 5]]\n",
      "\n",
      "[ 3 12]\n"
     ]
    }
   ],
   "source": [
    "print(np.sum(ones_matrix))\n",
    "print(np.sum(ones_matrix, axis=1))\n",
    "\n",
    "# Create an array from a list\n",
    "sample_1d = np.array([0,1,2])\n",
    "sample_2d = np.array(\n",
    "    [[0,1,2],\n",
    "     [3,4,5]]\n",
    ")\n",
    "print(sample_1d)\n",
    "print()\n",
    "print(sample_2d)\n",
    "print() #creates a space bettewn the resutls\n",
    "print(np.sum(sample_2d, axis=1))"
   ]
  },
  {
   "cell_type": "code",
   "execution_count": 9,
   "id": "42fe4da8-7561-44f1-9534-ff90f0414e67",
   "metadata": {},
   "outputs": [
    {
     "name": "stdout",
     "output_type": "stream",
     "text": [
      "[[0. 0. 0. 0. 0.]\n",
      " [0. 0. 0. 0. 0.]\n",
      " [0. 0. 0. 0. 0.]\n",
      " [0. 0. 0. 0. 0.]\n",
      " [0. 0. 0. 0. 0.]]\n",
      "\n"
     ]
    }
   ],
   "source": [
    "# Create an array of all zeros\n",
    "zeros = np.zeros(array_shape)\n",
    "print(zeros)\n",
    "print()"
   ]
  },
  {
   "cell_type": "code",
   "execution_count": 10,
   "id": "34592618-b3b7-4f6b-b932-1429f6591548",
   "metadata": {},
   "outputs": [
    {
     "name": "stdout",
     "output_type": "stream",
     "text": [
      "[    0     1     2 ... 19997 19998 19999]\n",
      "\n"
     ]
    }
   ],
   "source": [
    "# Arange is just like the regular `range` function\n",
    "# but produces an array rather than a `range` object\n",
    "sequence_1 = np.arange(start, end, step)\n",
    "print(sequence_1)\n",
    "print()"
   ]
  },
  {
   "cell_type": "markdown",
   "id": "61a7651d-8cc6-43f3-a0f0-7cb04d42e97c",
   "metadata": {},
   "source": [
    "Linspace is the counterpart to `arange`. If you know\n",
    "how many numbers you need rather than the step size\n",
    "Here, 5 evenly spaced values form 0 to pi \n",
    "NOTE: Linspace actually includes the end point"
   ]
  },
  {
   "cell_type": "code",
   "execution_count": 11,
   "id": "63f1755a-8a9c-4582-87b2-ed67a07da052",
   "metadata": {},
   "outputs": [
    {
     "name": "stdout",
     "output_type": "stream",
     "text": [
      "[0.         0.78539816 1.57079633 2.35619449 3.14159265]\n",
      "\n"
     ]
    }
   ],
   "source": [
    "sequence_2 = np.linspace(0, np.pi, 5)\n",
    "print(sequence_2)\n",
    "print()"
   ]
  },
  {
   "cell_type": "markdown",
   "id": "853583c6-e52d-4b1f-9435-831f32dc2e6d",
   "metadata": {},
   "source": [
    "# You can create random numbers too"
   ]
  },
  {
   "cell_type": "code",
   "execution_count": 12,
   "id": "285c5973-ca2b-460a-9502-5aabea3c493b",
   "metadata": {},
   "outputs": [
    {
     "name": "stdout",
     "output_type": "stream",
     "text": [
      "[[0.32872669 0.74190436 0.89967422 0.70792172 0.85745503]\n",
      " [0.16636774 0.73049498 0.01429831 0.69264688 0.85787575]\n",
      " [0.10928469 0.89127583 0.71306694 0.47980016 0.63634163]\n",
      " [0.49846996 0.1808572  0.99243232 0.23666436 0.12287594]\n",
      " [0.88821612 0.33983191 0.07941638 0.48600274 0.66432614]]\n"
     ]
    }
   ],
   "source": [
    "random_matrix = np.random.random(array_shape)\n",
    "print(random_matrix)"
   ]
  },
  {
   "cell_type": "markdown",
   "id": "12330a32-8772-4523-8f18-8621875c2b05",
   "metadata": {},
   "source": [
    "# Numpy is really good for linear algebra"
   ]
  },
  {
   "cell_type": "code",
   "execution_count": 13,
   "id": "511e5200-97e4-41d1-a65d-5b396b90418a",
   "metadata": {},
   "outputs": [],
   "source": [
    "vector_shape = array_shape[0]\n",
    "random_vector = np.random.random(vector_shape)\n",
    "random_matrix_2 = np.random.random(array_shape)\n",
    "\n",
    "# For example the dot product   \n",
    "random_dot = np.dot(random_vector, random_matrix_2)\n",
    "\n",
    "# Or matrix multiplication\n",
    "random_matmul = np.matmul(random_matrix, random_matrix_2)"
   ]
  },
  {
   "cell_type": "markdown",
   "id": "44dec2e6-4f4d-4e6d-86b2-395a2249285a",
   "metadata": {},
   "source": [
    "# And there are a ton of operations, you can usually find what you need by searching online for \"numpy (whatever function you want)\""
   ]
  },
  {
   "cell_type": "code",
   "execution_count": 14,
   "id": "c7092cfd-c2d2-4669-9d5b-e0c67c65dc99",
   "metadata": {},
   "outputs": [
    {
     "data": {
      "text/plain": [
       "2.655511462634199"
      ]
     },
     "execution_count": 14,
     "metadata": {},
     "output_type": "execute_result"
    }
   ],
   "source": [
    "np.exp(random_matrix)\n",
    "np.sin(random_matrix)\n",
    "np.log(random_vector)\n",
    "np.max(random_matmul)"
   ]
  },
  {
   "cell_type": "markdown",
   "id": "e9aa6785-f060-4716-82bc-c5060bc59561",
   "metadata": {},
   "source": [
    "# Finally, let's talk about slicing and indexing\n",
    "# Like lists you can index arrays directly"
   ]
  },
  {
   "cell_type": "code",
   "execution_count": 15,
   "id": "c244f4c0-b8ae-4a55-9044-cf4c40f1ce58",
   "metadata": {},
   "outputs": [
    {
     "name": "stdout",
     "output_type": "stream",
     "text": [
      "[0 2 4]\n",
      "[0 2 4]\n",
      "[0.         1.57079633 3.14159265]\n"
     ]
    }
   ],
   "source": [
    "sequence_1[0]\n",
    "sequence_1[-1]\n",
    "\n",
    "# You can also \"slice\" which is basically indexing\n",
    "# multiple values. The syntax for slicing is like so\n",
    "start = 0\n",
    "stop = 5\n",
    "step = 2\n",
    "print(sequence_1[start:stop:step])\n",
    "\n",
    "# Additionally you can create a `slice` object which\n",
    "# can be convenient because you can use it multiple times\n",
    "my_slice = slice(start, stop, step)\n",
    "print(sequence_1[my_slice])\n",
    "print(sequence_2[my_slice])"
   ]
  },
  {
   "cell_type": "markdown",
   "id": "e14a5dc0-cb2b-4074-aa93-19e3e6480728",
   "metadata": {},
   "source": [
    "# For multidimensional arrays indexing works a  bit differently"
   ]
  },
  {
   "cell_type": "code",
   "execution_count": 16,
   "id": "8a117e2b-81ce-42bd-81ab-07b3e15a8996",
   "metadata": {},
   "outputs": [
    {
     "name": "stdout",
     "output_type": "stream",
     "text": [
      "[[0 1 2]\n",
      " [3 4 5]\n",
      " [6 7 8]]\n",
      "\n",
      "[0 1 2]\n",
      "\n",
      "5\n",
      "\n",
      "[0 3 6]\n"
     ]
    }
   ],
   "source": [
    "increasing_matrix = np.arange(0, 9).reshape((3,3)) #reare for a 1 dim array to a  2 dim array\n",
    "print(increasing_matrix)\n",
    "#indexing on a two dimientional array makes it \n",
    "print()\n",
    "# Get the first row\n",
    "print(increasing_matrix[0])\n",
    "print()\n",
    "# Get the middle value\n",
    "print(increasing_matrix[1,2])\n",
    "print()\n",
    "# Get the first column, the `:` means \"everything\"\n",
    "# It is equivalent to `slice(None, None, None)`\n",
    "print(increasing_matrix[:, 0])"
   ]
  },
  {
   "cell_type": "markdown",
   "id": "e2d05fb4-e46e-4d2f-9df6-e46fb2117fe4",
   "metadata": {
    "tags": []
   },
   "source": [
    "# Arrays can be of large dimension (up to, I think, 64)"
   ]
  },
  {
   "cell_type": "code",
   "execution_count": 17,
   "id": "c2eb27a2-99f9-4350-ac12-9f11e283d0e9",
   "metadata": {},
   "outputs": [
    {
     "name": "stdout",
     "output_type": "stream",
     "text": [
      "(3, 3, 3, 3, 3) 5\n"
     ]
    }
   ],
   "source": [
    "length = 3\n",
    "dim = 5\n",
    "array_5d = np.arange(0, length**dim).reshape(dim * (length,))\n",
    "print(array_5d.shape, array_5d.ndim)"
   ]
  },
  {
   "cell_type": "markdown",
   "id": "cf3e2548-ad4c-4a0a-b7fe-7cd7df0bf2c1",
   "metadata": {},
   "source": [
    "Numpy also features some rudimentary ways of \n",
    "reading data from files. This is how you'll complete\n",
    "your forecasting assignment. I've downloaded the daily\n",
    "streamflow in cubic feet per second for the last thirty \n",
    "days (ending Sept 10) and placed it in the `data` directory.\n",
    "But because I posted it on GitHub we can open it directly\n",
    "over the internet."
   ]
  },
  {
   "cell_type": "code",
   "execution_count": 18,
   "id": "088c471b-02c8-4adc-ac40-3d3a9b4864ee",
   "metadata": {},
   "outputs": [
    {
     "name": "stdout",
     "output_type": "stream",
     "text": [
      "[136.  281.  234.  181.  224.  215.  209.  236.  645.  579.  417.  372.\n",
      " 295.  308.  395.  357.  276.  253.  202.  165.  140.  119.  102.   86.7\n",
      "  84.9  73.8  67.   63.   57.1  55.1]\n"
     ]
    }
   ],
   "source": [
    "filename =('https://raw.githubusercontent.com/HAS-Tools-Fall2022'\n",
    "           '/Course-Materials22/main/data/verde_river_daily_flow_cfs.csv')\n",
    "flows = np.loadtxt(\n",
    "    filename,           # The location of the text file\n",
    "    delimiter=',',      # character which splits data into groups\n",
    "    usecols=1           # Just take column 1, which is the flows\n",
    ")\n",
    "print(flows)"
   ]
  }
 ],
 "metadata": {
  "kernelspec": {
   "display_name": "Python 3 (ipykernel)",
   "language": "python",
   "name": "python3"
  },
  "language_info": {
   "codemirror_mode": {
    "name": "ipython",
    "version": 3
   },
   "file_extension": ".py",
   "mimetype": "text/x-python",
   "name": "python",
   "nbconvert_exporter": "python",
   "pygments_lexer": "ipython3",
   "version": "3.11.0"
  }
 },
 "nbformat": 4,
 "nbformat_minor": 5
}
